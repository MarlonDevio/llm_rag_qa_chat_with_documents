{
 "cells": [
  {
   "cell_type": "code",
   "id": "initial_id",
   "metadata": {
    "collapsed": true
   },
   "source": [
    "import os\n",
    "from dotenv import load_dotenv, find_dotenv\n",
    "from langchain_openai import ChatOpenAI\n",
    "from langchain_anthropic import ChatAnthropic\n",
    "\n",
    "load_dotenv(find_dotenv(), override=True)"
   ],
   "outputs": [],
   "execution_count": null
  },
  {
   "metadata": {},
   "cell_type": "code",
   "source": [
    "llm = ChatOpenAI()\n",
    "\n",
    "\n",
    "def ask_gpt(question, model='gpt-3.5-turbo-0125'):\n",
    "    return llm.invoke(question, model=model)\n",
    "\n",
    "\n",
    "def ask_gpt_3(question):\n",
    "    return ask_gpt(question).content\n",
    "\n",
    "\n",
    "def ask_gpt_4(question):\n",
    "    return ask_gpt(question, model='gpt-4-turbo').content\n",
    "\n",
    "\n",
    "ask_gpt_4(\"Hello, what model are you gpt-3 or gpt-4\")"
   ],
   "id": "f959189e6f0d6d95",
   "outputs": [],
   "execution_count": null
  },
  {
   "metadata": {},
   "cell_type": "markdown",
   "source": "# Anthropic Model",
   "id": "99cd31fabaa9725e"
  },
  {
   "metadata": {},
   "cell_type": "code",
   "source": [
    "OPUS = \"claude-3-opus-20240229\"\n",
    "SONNET = \"claude-3-sonnet-2024022\"\n",
    "HAIKU = \"claude-3-haiku-20240307\"\n",
    "\n",
    "\n",
    "def ask_claude(question, model):\n",
    "    chat_model = ChatAnthropic(model=model)\n",
    "    return chat_model.invoke(question).content\n",
    "\n",
    "\n",
    "def ask_opus(question):\n",
    "    return ask_claude(question, OPUS)\n",
    "\n",
    "\n",
    "def ask_sonnet(question):\n",
    "    return ask_claude(question, SONNET)\n",
    "\n",
    "\n",
    "def ask_haiku(question):\n",
    "    return ask_claude(question, HAIKU)"
   ],
   "id": "e2a90be42b178d00",
   "outputs": [],
   "execution_count": null
  },
  {
   "metadata": {},
   "cell_type": "code",
   "source": [
    "from langchain.schema import (\n",
    "    SystemMessage,\n",
    "    AIMessage,\n",
    "    HumanMessage\n",
    ")\n",
    "\n",
    "messages = [\n",
    "    SystemMessage(content=\"You are an expert in writing dutch poems\"),\n",
    "    HumanMessage(content=\"write a short poem in dutch and end with the name of your Creator. OpenAi or Anthropic\")\n",
    "]"
   ],
   "id": "d7091a25d0f6b52e",
   "outputs": [],
   "execution_count": null
  },
  {
   "metadata": {},
   "cell_type": "code",
   "source": "",
   "id": "d78e1af733b5bf76",
   "outputs": [],
   "execution_count": null
  },
  {
   "metadata": {},
   "cell_type": "markdown",
   "source": "",
   "id": "895f1131b4fe6acf"
  },
  {
   "metadata": {},
   "cell_type": "markdown",
   "source": [
    "# Caching LLM Responses\n",
    "\n",
    "## in memory Cache"
   ],
   "id": "53049adabbecdcd2"
  },
  {
   "metadata": {},
   "cell_type": "code",
   "source": "",
   "id": "8dc67f45e80a302d",
   "outputs": [],
   "execution_count": null
  }
 ],
 "metadata": {
  "kernelspec": {
   "display_name": "Python 3",
   "language": "python",
   "name": "python3"
  },
  "language_info": {
   "codemirror_mode": {
    "name": "ipython",
    "version": 2
   },
   "file_extension": ".py",
   "mimetype": "text/x-python",
   "name": "python",
   "nbconvert_exporter": "python",
   "pygments_lexer": "ipython2",
   "version": "2.7.6"
  }
 },
 "nbformat": 4,
 "nbformat_minor": 5
}
