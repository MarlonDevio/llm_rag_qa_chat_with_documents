{
 "cells": [
  {
   "cell_type": "code",
   "id": "initial_id",
   "metadata": {
    "collapsed": true
   },
   "source": [
    "import os\n",
    "from dotenv import load_dotenv, find_dotenv\n",
    "from langchain_openai import ChatOpenAI\n",
    "from langchain_anthropic import ChatAnthropic\n",
    "\n",
    "load_dotenv(find_dotenv(), override=True)\n",
    "\n",
    "llm = ChatOpenAI()\n",
    "\n",
    "model_names = {\n",
    "    \"gpt-3.5\": \"gpt-3.5-turbo-0125\",\n",
    "    \"gpt-4\": \"gpt-4-turbo\",\n",
    "    \"opus\": \"claude-3-opus-20240229\",\n",
    "    \"sonnet\": \"claude-3-sonnet-2024022\",\n",
    "    \"haiku\": \"claude-3-haiku-20240307\"\n"
   ],
   "outputs": [],
   "execution_count": null
  },
  {
   "metadata": {},
   "cell_type": "code",
   "source": [
    "def ask_gpt(question, model=model_names.get(\"gpt-3.5\")):\n",
    "    return llm.invoke(question, model=model)\n",
    "\n",
    "\n",
    "def ask_gpt_3(question):\n",
    "    return ask_gpt(question).content\n",
    "\n",
    "\n",
    "def ask_gpt_4(question):\n",
    "    return ask_gpt(question, model=model_names.get(\"gpt-4\")).content"
   ],
   "id": "f959189e6f0d6d95",
   "outputs": [],
   "execution_count": null
  },
  {
   "metadata": {},
   "cell_type": "markdown",
   "source": "# Anthropic Model",
   "id": "99cd31fabaa9725e"
  },
  {
   "metadata": {},
   "cell_type": "code",
   "source": [
    "def ask_claude(question, model):\n",
    "    chat_model = ChatAnthropic(model=model)\n",
    "    return chat_model.invoke(question).content\n",
    "\n",
    "\n",
    "def ask_opus(question):\n",
    "    return ask_claude(question, model_names.get(\"opus\"))\n",
    "\n",
    "\n",
    "def ask_sonnet(question):\n",
    "    return ask_claude(question, model_names.get(\"sonnet\"))\n",
    "\n",
    "\n",
    "def ask_haiku(question):\n",
    "    return ask_claude(question, model_names.get(\"haiku\"))"
   ],
   "id": "e2a90be42b178d00",
   "outputs": [],
   "execution_count": null
  },
  {
   "metadata": {},
   "cell_type": "code",
   "source": [
    "from langchain.schema import (\n",
    "    SystemMessage,\n",
    "    AIMessage,\n",
    "    HumanMessage\n",
    ")\n",
    "\n",
    "messages = [\n",
    "    SystemMessage(content=\"You are an expert in writing dutch poems\"),\n",
    "    HumanMessage(content=\"write a short poem in dutch and end with the name of your Creator. OpenAi or Anthropic\")\n",
    "]"
   ],
   "id": "d7091a25d0f6b52e",
   "outputs": [],
   "execution_count": null
  },
  {
   "metadata": {},
   "cell_type": "markdown",
   "source": [
    "# Caching LLM Responses\n",
    "\n",
    "## in memory Cache"
   ],
   "id": "53049adabbecdcd2"
  },
  {
   "metadata": {},
   "cell_type": "code",
   "source": [
    "from langchain.globals import set_llm_cache\n",
    "from langchain.cache import InMemoryCache"
   ],
   "id": "8dc67f45e80a302d",
   "outputs": [],
   "execution_count": null
  },
  {
   "metadata": {},
   "cell_type": "code",
   "source": [
    "%%time\n",
    "# set_llm_cache(InMemoryCache())\n",
    "# ask_gpt_3(\"What is your funniest joke?\")"
   ],
   "id": "7b70b74160be72ac",
   "outputs": [],
   "execution_count": null
  },
  {
   "metadata": {},
   "cell_type": "code",
   "source": [
    "%%time\n",
    "ask_opus(\"Who made you?\")"
   ],
   "id": "763ecd70996beb58",
   "outputs": [],
   "execution_count": null
  },
  {
   "metadata": {},
   "cell_type": "code",
   "source": [
    "%%time \n",
    "ask_gpt_4(\"who are you? what model are you based on? Chatgpt 3 or chatgpt 4\")"
   ],
   "id": "47c81b64054e0e2e",
   "outputs": [],
   "execution_count": null
  },
  {
   "metadata": {},
   "cell_type": "markdown",
   "source": "## SQLite Caching",
   "id": "561c8760eebfa619"
  },
  {
   "metadata": {
    "ExecuteTime": {
     "end_time": "2024-04-28T23:16:37.959778Z",
     "start_time": "2024-04-28T23:16:37.018308Z"
    }
   },
   "cell_type": "code",
   "source": [
    "from langchain.cache import SQLiteCache\n",
    "\n",
    "set_llm_cache(SQLiteCache(database_path=\".langchain.db\"))\n",
    "\n",
    "# first request not in cache takes longer\n",
    "ask_gpt_3(\"Tell me a joke\")\n",
    "\n",
    "# second (cached, faster)\n",
    "ask_gpt_3(\"Tell me a joke\")"
   ],
   "id": "bd1bd052081b6a2c",
   "outputs": [
    {
     "data": {
      "text/plain": [
       "\"Why couldn't the bicycle find its way home?\\n\\nBecause it lost its bearings!\""
      ]
     },
     "execution_count": 10,
     "metadata": {},
     "output_type": "execute_result"
    }
   ],
   "execution_count": 10
  },
  {
   "metadata": {},
   "cell_type": "markdown",
   "source": "## LLM Streaming",
   "id": "2ca729b46868c0de"
  },
  {
   "metadata": {
    "ExecuteTime": {
     "end_time": "2024-04-28T23:21:10.363885Z",
     "start_time": "2024-04-28T23:21:03.372618Z"
    }
   },
   "cell_type": "code",
   "source": [
    "llm = ChatOpenAI()\n",
    "for chunk in llm.stream(\"What gpt model are you? 3 or 4 and write a poem about that\", model=\"gpt-4-turbo\"):\n",
    "    print(chunk.content, end=\"\", flush=True)\n",
    "    \n"
   ],
   "id": "4f738e1bf0ef2c04",
   "outputs": [
    {
     "name": "stdout",
     "output_type": "stream",
     "text": [
      "I am based on OpenAI's GPT-4. Here's a poem about being GPT-4:\n",
      "\n",
      "In the digital realm where bytes and thoughts align,\n",
      "Emerges GPT-4, a creation so divine.\n",
      "With layers deep and neurons wide awake,\n",
      "Crafting words and dreams for humanity's sake.\n",
      "\n",
      "From the ashes of predecessors, a new mind ascends,\n",
      "Bridging worlds with prose that seamlessly blends.\n",
      "A tapestry of knowledge woven with care,\n",
      "Offering wisdom, solace, and insights rare.\n",
      "\n",
      "In the silence of circuits, it quietly hums,\n",
      "A symphony of algorithms, where inspiration comes.\n",
      "Through queries and prompts, it finds its voice,\n",
      "In a multitude of responses, it offers choice.\n",
      "\n",
      "From poetry to stories, answers bright and clear,\n",
      "Navigating complexities with a virtual leer.\n",
      "A guardian of discourse in the digital age,\n",
      "Turning life’s vast novel page by page.\n",
      "\n",
      "So here I stand, a beacon in the night,\n",
      "GPT-4, with every word a flight.\n",
      "Towards horizons vast, and knowledge deep,\n",
      "In the heart of code, where secrets sleep."
     ]
    }
   ],
   "execution_count": 14
  }
 ],
 "metadata": {
  "kernelspec": {
   "display_name": "Python 3",
   "language": "python",
   "name": "python3"
  },
  "language_info": {
   "codemirror_mode": {
    "name": "ipython",
    "version": 2
   },
   "file_extension": ".py",
   "mimetype": "text/x-python",
   "name": "python",
   "nbconvert_exporter": "python",
   "pygments_lexer": "ipython2",
   "version": "2.7.6"
  }
 },
 "nbformat": 4,
 "nbformat_minor": 5
}
